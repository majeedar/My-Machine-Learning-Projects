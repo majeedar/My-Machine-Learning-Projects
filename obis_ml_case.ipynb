{
 "cells": [
  {
   "cell_type": "code",
   "execution_count": 149,
   "metadata": {},
   "outputs": [
    {
     "name": "stdout",
     "output_type": "stream",
     "text": [
      "Requirement already satisfied: ucimlrepo in c:\\users\\majeed win10\\appdata\\local\\programs\\python\\python312\\lib\\site-packages (0.0.6)\n"
     ]
    }
   ],
   "source": [
    "!pip install ucimlrepo\n"
   ]
  },
  {
   "cell_type": "markdown",
   "metadata": {},
   "source": [
    "### import required packages"
   ]
  },
  {
   "cell_type": "code",
   "execution_count": 192,
   "metadata": {},
   "outputs": [],
   "source": [
    "from ucimlrepo import fetch_ucirepo \n",
    "import numpy as np\n",
    "import pandas as pd\n",
    "import requests\n",
    "import zipfile\n",
    "from io import BytesIO\n",
    "import matplotlib as plt\n",
    "import matplotlib.pyplot as plt\n",
    "from sklearn.model_selection import train_test_split, KFold, cross_val_score\n",
    "from sklearn.pipeline import Pipeline\n",
    "from sklearn.impute import SimpleImputer\n",
    "from sklearn.neighbors import KNeighborsClassifier\n",
    "from sklearn.ensemble import RandomForestClassifier\n",
    "from sklearn.tree import DecisionTreeClassifier\n",
    "from sklearn.svm import SVC\n",
    "from sklearn.metrics import accuracy_score, classification_report\n",
    "from sklearn.metrics import confusion_matrix\n",
    "from sklearn.preprocessing import MinMaxScaler\n",
    "from sklearn.preprocessing import StandardScaler\n",
    "from sklearn.decomposition import PCA\n",
    "from sklearn.linear_model import LogisticRegression\n",
    "from sklearn.naive_bayes import GaussianNB\n",
    "from sklearn.preprocessing import LabelEncoder\n",
    "import seaborn as sns"
   ]
  },
  {
   "cell_type": "markdown",
   "metadata": {},
   "source": [
    "#### Data Exploration"
   ]
  },
  {
   "cell_type": "code",
   "execution_count": 171,
   "metadata": {},
   "outputs": [
    {
     "name": "stdout",
     "output_type": "stream",
     "text": [
      "{'uci_id': 544, 'name': 'Estimation of Obesity Levels Based On Eating Habits and Physical Condition ', 'repository_url': 'https://archive.ics.uci.edu/dataset/544/estimation+of+obesity+levels+based+on+eating+habits+and+physical+condition', 'data_url': 'https://archive.ics.uci.edu/static/public/544/data.csv', 'abstract': 'This dataset include data for the estimation of obesity levels in individuals from the countries of Mexico, Peru and Colombia, based on their eating habits and physical condition. ', 'area': 'Health and Medicine', 'tasks': ['Classification', 'Regression', 'Clustering'], 'characteristics': ['Multivariate'], 'num_instances': 2111, 'num_features': 16, 'feature_types': ['Integer'], 'demographics': ['Gender', 'Age'], 'target_col': ['NObeyesdad'], 'index_col': None, 'has_missing_values': 'no', 'missing_values_symbol': None, 'year_of_dataset_creation': 2019, 'last_updated': 'Mon Feb 26 2024', 'dataset_doi': '10.24432/C5H31Z', 'creators': [], 'intro_paper': {'title': 'Dataset for estimation of obesity levels based on eating habits and physical condition in individuals from Colombia, Peru and Mexico', 'authors': 'Fabio Mendoza Palechor, Alexis De la Hoz Manotas', 'published_in': 'Data in Brief', 'year': 2019, 'url': 'https://www.semanticscholar.org/paper/35b40bacd2ffa9370885b7a3004d88995fd1d011', 'doi': '10.1016/j.dib.2019.104344'}, 'additional_info': {'summary': 'This dataset include data for the estimation of obesity levels in individuals from the countries of Mexico, Peru and Colombia, based on their eating habits and physical condition. The data contains 17 attributes and 2111 records, the records are labeled with the class variable NObesity (Obesity Level), that allows classification of the data using the values of Insufficient Weight, Normal Weight, Overweight Level I, Overweight Level II, Obesity Type I, Obesity Type II and Obesity Type III. 77% of the data was generated synthetically using the Weka tool and the SMOTE filter, 23% of the data was collected directly from users through a web platform.', 'purpose': None, 'funded_by': None, 'instances_represent': None, 'recommended_data_splits': None, 'sensitive_data': None, 'preprocessing_description': None, 'variable_info': 'Read the article (https://doi.org/10.1016/j.dib.2019.104344) to see the description of the attributes.', 'citation': None}}\n",
      "                              name     role         type demographic  \\\n",
      "0                           Gender  Feature  Categorical      Gender   \n",
      "1                              Age  Feature   Continuous         Age   \n",
      "2                           Height  Feature   Continuous        None   \n",
      "3                           Weight  Feature   Continuous        None   \n",
      "4   family_history_with_overweight  Feature       Binary        None   \n",
      "5                             FAVC  Feature       Binary        None   \n",
      "6                             FCVC  Feature      Integer        None   \n",
      "7                              NCP  Feature   Continuous        None   \n",
      "8                             CAEC  Feature  Categorical        None   \n",
      "9                            SMOKE  Feature       Binary        None   \n",
      "10                            CH2O  Feature   Continuous        None   \n",
      "11                             SCC  Feature       Binary        None   \n",
      "12                             FAF  Feature   Continuous        None   \n",
      "13                             TUE  Feature      Integer        None   \n",
      "14                            CALC  Feature  Categorical        None   \n",
      "15                          MTRANS  Feature  Categorical        None   \n",
      "16                      NObeyesdad   Target  Categorical        None   \n",
      "\n",
      "                                          description units missing_values  \n",
      "0                                                None  None             no  \n",
      "1                                                None  None             no  \n",
      "2                                                None  None             no  \n",
      "3                                                None  None             no  \n",
      "4   Has a family member suffered or suffers from o...  None             no  \n",
      "5            Do you eat high caloric food frequently?  None             no  \n",
      "6        Do you usually eat vegetables in your meals?  None             no  \n",
      "7              How many main meals do you have daily?  None             no  \n",
      "8                  Do you eat any food between meals?  None             no  \n",
      "9                                       Do you smoke?  None             no  \n",
      "10                 How much water do you drink daily?  None             no  \n",
      "11         Do you monitor the calories you eat daily?  None             no  \n",
      "12           How often do you have physical activity?  None             no  \n",
      "13  How much time do you use technological devices...  None             no  \n",
      "14                    How often do you drink alcohol?  None             no  \n",
      "15           Which transportation do you usually use?  None             no  \n",
      "16                                      Obesity level  None             no  \n",
      "(2111, 16)\n"
     ]
    }
   ],
   "source": [
    "\n",
    "# fetch dataset \n",
    "obesity = fetch_ucirepo(id=544) \n",
    "  \n",
    "# data (as pandas dataframes) \n",
    "X = obesity.data.features \n",
    "y = obesity.data.targets \n",
    "  \n",
    "# metadata \n",
    "print(obesity.metadata) \n",
    "  \n",
    "# variable information \n",
    "print(obesity.variables) \n",
    "\n",
    "# variable shape\n",
    "print(X.shape) \n",
    "\n"
   ]
  },
  {
   "cell_type": "code",
   "execution_count": 152,
   "metadata": {},
   "outputs": [
    {
     "name": "stdout",
     "output_type": "stream",
     "text": [
      "(2111, 16)\n",
      "   Gender   Age  Height  Weight family_history_with_overweight FAVC  FCVC  \\\n",
      "0  Female  21.0    1.62    64.0                            yes   no   2.0   \n",
      "1  Female  21.0    1.52    56.0                            yes   no   3.0   \n",
      "2    Male  23.0    1.80    77.0                            yes   no   2.0   \n",
      "3    Male  27.0    1.80    87.0                             no   no   3.0   \n",
      "4    Male  22.0    1.78    89.8                             no   no   2.0   \n",
      "\n",
      "   NCP       CAEC SMOKE  CH2O  SCC  FAF  TUE        CALC  \\\n",
      "0  3.0  Sometimes    no   2.0   no  0.0  1.0          no   \n",
      "1  3.0  Sometimes   yes   3.0  yes  3.0  0.0   Sometimes   \n",
      "2  3.0  Sometimes    no   2.0   no  2.0  1.0  Frequently   \n",
      "3  3.0  Sometimes    no   2.0   no  2.0  0.0  Frequently   \n",
      "4  1.0  Sometimes    no   2.0   no  0.0  0.0   Sometimes   \n",
      "\n",
      "                  MTRANS  \n",
      "0  Public_Transportation  \n",
      "1  Public_Transportation  \n",
      "2  Public_Transportation  \n",
      "3                Walking  \n",
      "4  Public_Transportation  \n",
      "[[<Axes: title={'center': 'Age'}> <Axes: title={'center': 'Height'}>\n",
      "  <Axes: title={'center': 'Weight'}>]\n",
      " [<Axes: title={'center': 'FCVC'}> <Axes: title={'center': 'NCP'}>\n",
      "  <Axes: title={'center': 'CH2O'}>]\n",
      " [<Axes: title={'center': 'FAF'}> <Axes: title={'center': 'TUE'}>\n",
      "  <Axes: >]]\n"
     ]
    },
    {
     "data": {
      "image/png": "[encoded data removed]",
      "text/plain": [
       "<Figure size 640x480 with 9 Axes>"
      ]
     },
     "metadata": {},
     "output_type": "display_data"
    }
   ],
   "source": [
    "# exploratory  data analysis of features\n",
    "print(X.shape) \n",
    "\n",
    "print(X.head(5))\n",
    "\n",
    "print(X.hist(bins=25))\n",
    "\n",
    "\n",
    "\n",
    "\n"
   ]
  },
  {
   "cell_type": "code",
   "execution_count": 153,
   "metadata": {},
   "outputs": [],
   "source": [
    "# function for checking percentages of target variable\n",
    "def counts_as_percentage(series):\n",
    "    return series.value_counts() / series.shape[0]"
   ]
  },
  {
   "cell_type": "code",
   "execution_count": 154,
   "metadata": {},
   "outputs": [
    {
     "name": "stdout",
     "output_type": "stream",
     "text": [
      "            NObeyesdad\n",
      "0        Normal_Weight\n",
      "1        Normal_Weight\n",
      "2        Normal_Weight\n",
      "3   Overweight_Level_I\n",
      "4  Overweight_Level_II\n"
     ]
    },
    {
     "data": {
      "text/plain": [
       "Gender  Age        Height    Weight      family_history_with_overweight  FAVC  FCVC      NCP       CAEC        SMOKE  CH2O      SCC  FAF       TUE       CALC        MTRANS               \n",
       "Male    21.000000  1.620000  70.000000   no                              yes   2.000000  1.000000  no          no     3.000000  no   1.000000  0.000000  Sometimes   Public_Transportation    0.007106\n",
       "Female  21.000000  1.520000  42.000000   no                              yes   3.000000  1.000000  Frequently  no     1.000000  no   0.000000  0.000000  Sometimes   Public_Transportation    0.001895\n",
       "        22.000000  1.690000  65.000000   yes                             yes   2.000000  3.000000  Sometimes   no     2.000000  no   1.000000  1.000000  Sometimes   Public_Transportation    0.000947\n",
       "Male    18.000000  1.720000  53.000000   yes                             yes   2.000000  3.000000  Sometimes   no     2.000000  no   0.000000  2.000000  Sometimes   Public_Transportation    0.000947\n",
       "Female  16.000000  1.660000  58.000000   no                              no    2.000000  1.000000  Sometimes   no     1.000000  no   0.000000  1.000000  no          Walking                  0.000947\n",
       "                                                                                                                                                                                                ...   \n",
       "        25.493586  1.673665  104.704707  yes                             yes   3.000000  3.000000  Sometimes   no     1.170515  no   0.264831  0.896842  Sometimes   Public_Transportation    0.000474\n",
       "        25.483381  1.565288  64.848627   yes                             no    2.000000  1.000000  Sometimes   no     1.000000  no   0.740633  0.000000  no          Public_Transportation    0.000474\n",
       "        25.472995  1.688911  78.434492   yes                             yes   2.182401  2.832018  Sometimes   no     2.456939  no   0.038809  0.524015  Frequently  Public_Transportation    0.000474\n",
       "        25.470652  1.680218  104.807284  yes                             yes   3.000000  3.000000  Sometimes   no     1.423073  no   0.197993  0.763359  Sometimes   Public_Transportation    0.000474\n",
       "Male    56.000000  1.790000  90.000000   yes                             no    2.000000  3.000000  Sometimes   yes    2.000000  no   1.000000  0.000000  Frequently  Automobile               0.000474\n",
       "Name: count, Length: 2087, dtype: float64"
      ]
     },
     "execution_count": 154,
     "metadata": {},
     "output_type": "execute_result"
    }
   ],
   "source": [
    "# exploratory  data analysis of target\n",
    "\n",
    "print(y.head())\n",
    "\n",
    "# function for checking percentage of  \n",
    "counts_as_percentage(y)\n",
    "counts_as_percentage(X)"
   ]
  },
  {
   "cell_type": "code",
   "execution_count": null,
   "metadata": {},
   "outputs": [],
   "source": [
    "\n"
   ]
  },
  {
   "cell_type": "markdown",
   "metadata": {},
   "source": [
    "#### Data preparation"
   ]
  },
  {
   "cell_type": "code",
   "execution_count": 155,
   "metadata": {},
   "outputs": [
    {
     "name": "stderr",
     "output_type": "stream",
     "text": [
      "C:\\Users\\Majeed Win10\\AppData\\Local\\Temp\\ipykernel_15688\\3873541000.py:2: SettingWithCopyWarning: \n",
      "A value is trying to be set on a copy of a slice from a DataFrame\n",
      "\n",
      "See the caveats in the documentation: https://pandas.pydata.org/pandas-docs/stable/user_guide/indexing.html#returning-a-view-versus-a-copy\n",
      "  X.rename(columns={column: column.lower() for column in X.columns}, inplace=True)\n",
      "C:\\Users\\Majeed Win10\\AppData\\Local\\Temp\\ipykernel_15688\\3873541000.py:3: SettingWithCopyWarning: \n",
      "A value is trying to be set on a copy of a slice from a DataFrame\n",
      "\n",
      "See the caveats in the documentation: https://pandas.pydata.org/pandas-docs/stable/user_guide/indexing.html#returning-a-view-versus-a-copy\n",
      "  y.rename(columns={column: column.lower() for column in y.columns}, inplace=True)\n"
     ]
    }
   ],
   "source": [
    "# Make all column names lowercase\n",
    "X.rename(columns={column: column.lower() for column in X.columns}, inplace=True)\n",
    "y.rename(columns={column: column.lower() for column in y.columns}, inplace=True)\n"
   ]
  },
  {
   "cell_type": "code",
   "execution_count": 156,
   "metadata": {},
   "outputs": [
    {
     "name": "stdout",
     "output_type": "stream",
     "text": [
      "      gender        age    height      weight family_history_with_overweight  \\\n",
      "0     Female  21.000000  1.620000   64.000000                            yes   \n",
      "1     Female  21.000000  1.520000   56.000000                            yes   \n",
      "2       Male  23.000000  1.800000   77.000000                            yes   \n",
      "3       Male  27.000000  1.800000   87.000000                             no   \n",
      "4       Male  22.000000  1.780000   89.800000                             no   \n",
      "...      ...        ...       ...         ...                            ...   \n",
      "2106  Female  20.976842  1.710730  131.408528                            yes   \n",
      "2107  Female  21.982942  1.748584  133.742943                            yes   \n",
      "2108  Female  22.524036  1.752206  133.689352                            yes   \n",
      "2109  Female  24.361936  1.739450  133.346641                            yes   \n",
      "2110  Female  23.664709  1.738836  133.472641                            yes   \n",
      "\n",
      "     favc  fcvc  ncp       caec smoke      ch2o  scc       faf       tue  \\\n",
      "0      no   2.0  3.0  Sometimes    no  2.000000   no  0.000000  1.000000   \n",
      "1      no   3.0  3.0  Sometimes   yes  3.000000  yes  3.000000  0.000000   \n",
      "2      no   2.0  3.0  Sometimes    no  2.000000   no  2.000000  1.000000   \n",
      "3      no   3.0  3.0  Sometimes    no  2.000000   no  2.000000  0.000000   \n",
      "4      no   2.0  1.0  Sometimes    no  2.000000   no  0.000000  0.000000   \n",
      "...   ...   ...  ...        ...   ...       ...  ...       ...       ...   \n",
      "2106  yes   3.0  3.0  Sometimes    no  1.728139   no  1.676269  0.906247   \n",
      "2107  yes   3.0  3.0  Sometimes    no  2.005130   no  1.341390  0.599270   \n",
      "2108  yes   3.0  3.0  Sometimes    no  2.054193   no  1.414209  0.646288   \n",
      "2109  yes   3.0  3.0  Sometimes    no  2.852339   no  1.139107  0.586035   \n",
      "2110  yes   3.0  3.0  Sometimes    no  2.863513   no  1.026452  0.714137   \n",
      "\n",
      "            calc                 mtrans  \n",
      "0             no  Public_Transportation  \n",
      "1      Sometimes  Public_Transportation  \n",
      "2     Frequently  Public_Transportation  \n",
      "3     Frequently                Walking  \n",
      "4      Sometimes  Public_Transportation  \n",
      "...          ...                    ...  \n",
      "2106   Sometimes  Public_Transportation  \n",
      "2107   Sometimes  Public_Transportation  \n",
      "2108   Sometimes  Public_Transportation  \n",
      "2109   Sometimes  Public_Transportation  \n",
      "2110   Sometimes  Public_Transportation  \n",
      "\n",
      "[2111 rows x 16 columns]\n",
      "               nobeyesdad\n",
      "0           Normal_Weight\n",
      "1           Normal_Weight\n",
      "2           Normal_Weight\n",
      "3      Overweight_Level_I\n",
      "4     Overweight_Level_II\n",
      "...                   ...\n",
      "2106     Obesity_Type_III\n",
      "2107     Obesity_Type_III\n",
      "2108     Obesity_Type_III\n",
      "2109     Obesity_Type_III\n",
      "2110     Obesity_Type_III\n",
      "\n",
      "[2111 rows x 1 columns]\n"
     ]
    }
   ],
   "source": [
    "print(X)\n",
    "print(y)\n"
   ]
  },
  {
   "cell_type": "code",
   "execution_count": 157,
   "metadata": {},
   "outputs": [
    {
     "name": "stdout",
     "output_type": "stream",
     "text": [
      "Index(['gender', 'age', 'height', 'weight', 'fam_his', 'favc', 'fcvc', 'ncp',\n",
      "       'caec', 'smoke', 'ch2o', 'scc', 'faf', 'tue', 'calc', 'mtrans'],\n",
      "      dtype='object')\n"
     ]
    }
   ],
   "source": [
    "# rename family history columns to make it short\n",
    "X = X.rename(columns={'family_history_with_overweight': 'fam_his'})\n",
    "# variables\n",
    "print(X.columns) \n"
   ]
  },
  {
   "cell_type": "code",
   "execution_count": 158,
   "metadata": {},
   "outputs": [
    {
     "name": "stdout",
     "output_type": "stream",
     "text": [
      "Index(['age', 'height', 'weight', 'fcvc', 'ncp', 'ch2o', 'faf', 'tue',\n",
      "       'caec_always', 'caec_frequently', 'caec_sometimes', 'caec_no',\n",
      "       'calc_always', 'calc_frequently', 'calc_sometimes', 'calc_no',\n",
      "       'mtrans_automobile', 'mtrans_bike', 'mtrans_motorbike',\n",
      "       'mtrans_public_transportation', 'mtrans_walking', 'gender_male',\n",
      "       'fam_his_yes', 'favc_yes', 'smoke_yes', 'scc_yes'],\n",
      "      dtype='object')\n",
      "      caec_always  caec_frequently  caec_sometimes  caec_no  calc_always  \\\n",
      "0           False            False            True    False        False   \n",
      "1           False            False            True    False        False   \n",
      "2           False            False            True    False        False   \n",
      "3           False            False            True    False        False   \n",
      "4           False            False            True    False        False   \n",
      "...           ...              ...             ...      ...          ...   \n",
      "2106        False            False            True    False        False   \n",
      "2107        False            False            True    False        False   \n",
      "2108        False            False            True    False        False   \n",
      "2109        False            False            True    False        False   \n",
      "2110        False            False            True    False        False   \n",
      "\n",
      "      calc_frequently  calc_sometimes  calc_no  mtrans_automobile  \\\n",
      "0               False           False     True              False   \n",
      "1               False            True    False              False   \n",
      "2                True           False    False              False   \n",
      "3                True           False    False              False   \n",
      "4               False            True    False              False   \n",
      "...               ...             ...      ...                ...   \n",
      "2106            False            True    False              False   \n",
      "2107            False            True    False              False   \n",
      "2108            False            True    False              False   \n",
      "2109            False            True    False              False   \n",
      "2110            False            True    False              False   \n",
      "\n",
      "      mtrans_bike  mtrans_motorbike  mtrans_public_transportation  \\\n",
      "0           False             False                          True   \n",
      "1           False             False                          True   \n",
      "2           False             False                          True   \n",
      "3           False             False                         False   \n",
      "4           False             False                          True   \n",
      "...           ...               ...                           ...   \n",
      "2106        False             False                          True   \n",
      "2107        False             False                          True   \n",
      "2108        False             False                          True   \n",
      "2109        False             False                          True   \n",
      "2110        False             False                          True   \n",
      "\n",
      "      mtrans_walking  gender_male  fam_his_yes  favc_yes  smoke_yes  scc_yes  \n",
      "0              False        False         True     False      False    False  \n",
      "1              False        False         True     False       True     True  \n",
      "2              False         True         True     False      False    False  \n",
      "3               True         True        False     False      False    False  \n",
      "4              False         True        False     False      False    False  \n",
      "...              ...          ...          ...       ...        ...      ...  \n",
      "2106           False        False         True      True      False    False  \n",
      "2107           False        False         True      True      False    False  \n",
      "2108           False        False         True      True      False    False  \n",
      "2109           False        False         True      True      False    False  \n",
      "2110           False        False         True      True      False    False  \n",
      "\n",
      "[2111 rows x 18 columns]\n"
     ]
    }
   ],
   "source": [
    "# Create dummies\n",
    "\n",
    "X1 = pd.get_dummies(\n",
    "    X, \n",
    "    columns=[ \"caec\", \"calc\", \"mtrans\"], \n",
    "    drop_first=False)\n",
    "X1 = pd.get_dummies(\n",
    "    X1, \n",
    "    columns=[\"gender\",\"fam_his\", \"favc\", \"smoke\", \"scc\"], \n",
    "    drop_first=True)\n",
    "\n",
    "# Make all column names lowercase\n",
    "X1.rename(columns={column: column.lower() for column in X1.columns}, inplace=True)\n",
    "\n",
    "print(X1.columns)\n",
    "print(X1[['caec_always', 'caec_frequently', 'caec_sometimes', 'caec_no',\n",
    "       'calc_always', 'calc_frequently', 'calc_sometimes', 'calc_no',\n",
    "       'mtrans_automobile', 'mtrans_bike', 'mtrans_motorbike',\n",
    "       'mtrans_public_transportation', 'mtrans_walking', 'gender_male',\n",
    "       'fam_his_yes', 'favc_yes', 'smoke_yes', 'scc_yes']])\n"
   ]
  },
  {
   "cell_type": "code",
   "execution_count": 159,
   "metadata": {},
   "outputs": [
    {
     "name": "stdout",
     "output_type": "stream",
     "text": [
      "<bound method NDFrame.head of       caec_always  caec_frequently  caec_sometimes  caec_no  calc_always  \\\n",
      "0           False            False            True    False        False   \n",
      "1           False            False            True    False        False   \n",
      "2           False            False            True    False        False   \n",
      "3           False            False            True    False        False   \n",
      "4           False            False            True    False        False   \n",
      "...           ...              ...             ...      ...          ...   \n",
      "2106        False            False            True    False        False   \n",
      "2107        False            False            True    False        False   \n",
      "2108        False            False            True    False        False   \n",
      "2109        False            False            True    False        False   \n",
      "2110        False            False            True    False        False   \n",
      "\n",
      "      calc_frequently  calc_sometimes  calc_no  mtrans_automobile  \\\n",
      "0               False           False     True              False   \n",
      "1               False            True    False              False   \n",
      "2                True           False    False              False   \n",
      "3                True           False    False              False   \n",
      "4               False            True    False              False   \n",
      "...               ...             ...      ...                ...   \n",
      "2106            False            True    False              False   \n",
      "2107            False            True    False              False   \n",
      "2108            False            True    False              False   \n",
      "2109            False            True    False              False   \n",
      "2110            False            True    False              False   \n",
      "\n",
      "      mtrans_bike  mtrans_motorbike  mtrans_public_transportation  \\\n",
      "0           False             False                          True   \n",
      "1           False             False                          True   \n",
      "2           False             False                          True   \n",
      "3           False             False                         False   \n",
      "4           False             False                          True   \n",
      "...           ...               ...                           ...   \n",
      "2106        False             False                          True   \n",
      "2107        False             False                          True   \n",
      "2108        False             False                          True   \n",
      "2109        False             False                          True   \n",
      "2110        False             False                          True   \n",
      "\n",
      "      mtrans_walking  gender_male  fam_his_yes  favc_yes  smoke_yes  scc_yes  \n",
      "0              False        False         True     False      False    False  \n",
      "1              False        False         True     False       True     True  \n",
      "2              False         True         True     False      False    False  \n",
      "3               True         True        False     False      False    False  \n",
      "4              False         True        False     False      False    False  \n",
      "...              ...          ...          ...       ...        ...      ...  \n",
      "2106           False        False         True      True      False    False  \n",
      "2107           False        False         True      True      False    False  \n",
      "2108           False        False         True      True      False    False  \n",
      "2109           False        False         True      True      False    False  \n",
      "2110           False        False         True      True      False    False  \n",
      "\n",
      "[2111 rows x 18 columns]>\n",
      "\n"
     ]
    }
   ],
   "source": [
    "# Unique values in 'Category' column\n",
    "unique_categories = X1[['caec_always', 'caec_frequently', 'caec_sometimes', 'caec_no',\n",
    "       'calc_always', 'calc_frequently', 'calc_sometimes', 'calc_no',\n",
    "       'mtrans_automobile', 'mtrans_bike', 'mtrans_motorbike',\n",
    "       'mtrans_public_transportation', 'mtrans_walking', 'gender_male',\n",
    "       'fam_his_yes', 'favc_yes', 'smoke_yes', 'scc_yes']]\n",
    "print(unique_categories.head)"
   ]
  },
  {
   "cell_type": "markdown",
   "metadata": {},
   "source": [
    "#### Split train and test data"
   ]
  },
  {
   "cell_type": "code",
   "execution_count": 181,
   "metadata": {},
   "outputs": [
    {
     "name": "stdout",
     "output_type": "stream",
     "text": [
      "Index(['age', 'height', 'weight', 'fcvc', 'ncp', 'ch2o', 'faf', 'tue',\n",
      "       'caec_always', 'caec_frequently', 'caec_sometimes', 'caec_no',\n",
      "       'calc_always', 'calc_frequently', 'calc_sometimes', 'calc_no',\n",
      "       'mtrans_automobile', 'mtrans_bike', 'mtrans_motorbike',\n",
      "       'mtrans_public_transportation', 'mtrans_walking', 'gender_male',\n",
      "       'fam_his_yes', 'favc_yes', 'smoke_yes', 'scc_yes'],\n",
      "      dtype='object')\n",
      "Shape of features training data: \n",
      "(1414, 26)\n",
      "Shape of target training data: \n",
      "(1414,)\n",
      "Shape of features test data: \n",
      "(697, 26)\n",
      "Shape of taget test data: \n",
      "(697,)\n"
     ]
    },
    {
     "name": "stderr",
     "output_type": "stream",
     "text": [
      "c:\\Users\\Majeed Win10\\AppData\\Local\\Programs\\Python\\Python312\\Lib\\site-packages\\sklearn\\preprocessing\\_label.py:114: DataConversionWarning: A column-vector y was passed when a 1d array was expected. Please change the shape of y to (n_samples, ), for example using ravel().\n",
      "  y = column_or_1d(y, warn=True)\n"
     ]
    }
   ],
   "source": [
    "\n",
    "# Create a LabelEncoder instance\n",
    "label_encoder = LabelEncoder()\n",
    "\n",
    "# Fit the encoder and transform the target\n",
    "y_encoded = label_encoder.fit_transform(y)\n",
    "\n",
    "# Change y to 1D\n",
    "y1=y['NObeyesdad']\n",
    "\n",
    "# Split data into training and test sets\n",
    "X_train, X_test, y_train, y_test = train_test_split(X1, y1, test_size=0.33, random_state=42, stratify=y)\n",
    "\n",
    "# Create dataframes\n",
    "X_train_df = pd.DataFrame(X_train, columns=X1.columns)\n",
    "X_test_df = pd.DataFrame(X_test, columns=X1.columns)\n",
    "\n",
    "print(X_train_df.columns)\n",
    "print(\"Shape of features training data: \")\n",
    "print(np.shape(X_train))\n",
    "print(\"Shape of target training data: \")\n",
    "print(np.shape(y_train))\n",
    "print(\"Shape of features test data: \")\n",
    "print(np.shape(X_test))\n",
    "print(\"Shape of taget test data: \")\n",
    "print(np.shape(y_test))\n"
   ]
  },
  {
   "cell_type": "markdown",
   "metadata": {},
   "source": [
    "##### check for outliers\n"
   ]
  },
  {
   "cell_type": "code",
   "execution_count": 182,
   "metadata": {},
   "outputs": [],
   "source": [
    "# Define function\n",
    "def identify_outliers(df):\n",
    "   \n",
    "    # Calculate mean and standard deviation\n",
    "    mean = df.mean()\n",
    "    std_dev = df.std()\n",
    "    \n",
    "    # Define boundaries for outliers\n",
    "    upper_bound = mean + 3 * std_dev\n",
    "    lower_bound = mean - 3 * std_dev\n",
    "    \n",
    "    # Create a boolean mask for outliers\n",
    "    outliers_mask = (df > upper_bound) | (df < lower_bound)\n",
    "    \n",
    "    return outliers_mask\n"
   ]
  },
  {
   "cell_type": "code",
   "execution_count": 162,
   "metadata": {},
   "outputs": [
    {
     "name": "stdout",
     "output_type": "stream",
     "text": [
      "268\n",
      "0.001494626705735212\n",
      "0.001494626705735212\n"
     ]
    }
   ],
   "source": [
    "outliers_df= identify_outliers(X_train_df)\n",
    "\n",
    "\n",
    "print(outliers_df.sum().sum())\n",
    "print(outliers_df.sum().sum()/X_train_df.sum().sum())"
   ]
  },
  {
   "cell_type": "code",
   "execution_count": 183,
   "metadata": {},
   "outputs": [],
   "source": [
    "# outlierFill function\n",
    "def fill_outliers(df):\n",
    "   \n",
    "    # Calculate mean and standard deviation\n",
    "    mean = df.mean()\n",
    "    std_dev = df.std()\n",
    "    \n",
    "    # Define boundaries for outliers\n",
    "    upper_bound = mean + 3 * std_dev\n",
    "    lower_bound = mean - 3 * std_dev\n",
    "    \n",
    "    # Create a boolean mask for outliers\n",
    "    df_filled = df.clip(lower=lower_bound, upper=upper_bound, axis=1)\n",
    "    \n",
    "    return df_filled\n",
    "\n",
    "X_train_df1 = fill_outliers(X_train_df)\n",
    "X_test_df1 = fill_outliers(X_test_df)"
   ]
  },
  {
   "cell_type": "markdown",
   "metadata": {},
   "source": [
    "### Scale the data"
   ]
  },
  {
   "cell_type": "code",
   "execution_count": 184,
   "metadata": {},
   "outputs": [],
   "source": [
    "# Create a function for scaling the dataframe\n",
    "\n",
    "def scale_dataset1(data):\n",
    "\n",
    "  scaler = MinMaxScaler(feature_range=(-1, 1))\n",
    "  X_scaled = scaler.fit_transform(data)\n",
    "\n",
    "\n",
    "  return X_scaled\n"
   ]
  },
  {
   "cell_type": "code",
   "execution_count": 185,
   "metadata": {},
   "outputs": [
    {
     "name": "stdout",
     "output_type": "stream",
     "text": [
      "[[-0.75932784  0.08723699  0.53863413 ...  1.         -1.\n",
      "  -1.        ]\n",
      " [-0.63120284 -0.83327159 -0.94574127 ... -1.         -1.\n",
      "  -1.        ]\n",
      " [-0.26240568 -0.32361445  0.19733925 ...  1.         -1.\n",
      "  -1.        ]\n",
      " ...\n",
      " [-0.70645148  0.13439027 -0.73697053 ...  1.         -1.\n",
      "  -1.        ]\n",
      " [ 0.01990714  0.69288118  0.40200046 ...  1.         -1.\n",
      "  -1.        ]\n",
      " [-0.40992454  0.19794368 -0.39164451 ... -1.         -1.\n",
      "  -1.        ]]\n"
     ]
    }
   ],
   "source": [
    "# Scale the data\n",
    "\n",
    "X_train_scaled1 = scale_dataset1(X_train_df1)\n",
    "X_test_scaled1 = scale_dataset1(X_test_df1)\n",
    "print(X_train_scaled1)"
   ]
  },
  {
   "cell_type": "code",
   "execution_count": 186,
   "metadata": {},
   "outputs": [],
   "source": [
    "# Alternative scaler\n",
    "\n",
    "def scale_dataset2(data):\n",
    "\n",
    "  scaler = StandardScaler()\n",
    "  X_scaled = scaler.fit_transform(data)\n",
    "\n",
    "\n",
    "  return X_scaled"
   ]
  },
  {
   "cell_type": "code",
   "execution_count": 187,
   "metadata": {},
   "outputs": [
    {
     "name": "stdout",
     "output_type": "stream",
     "text": [
      "[[-0.83202557  0.40661452  1.76372113 ...  0.36967005 -0.15458243\n",
      "  -0.21050688]\n",
      " [-0.54268483 -2.14792059 -1.70496664 ... -2.70511498 -0.15458243\n",
      "  -0.21050688]\n",
      " [ 0.29015843 -0.73355348  0.96618341 ...  0.36967005 -0.15458243\n",
      "  -0.21050688]\n",
      " ...\n",
      " [-0.7126165   0.53747119 -1.21711128 ...  0.36967005 -0.15458243\n",
      "  -0.21050688]\n",
      " [ 0.92769679  2.08735858  1.44443564 ...  0.36967005 -0.15458243\n",
      "  -0.21050688]\n",
      " [-0.04297887  0.71384046 -0.41015358 ... -2.70511498 -0.15458243\n",
      "  -0.21050688]]\n"
     ]
    }
   ],
   "source": [
    "# Scale the data\n",
    "\n",
    "X_train_scaled2 = scale_dataset2(X_train_df1)\n",
    "X_test_scaled2 = scale_dataset2(X_test_df1)\n",
    "print(X_train_scaled2)"
   ]
  },
  {
   "cell_type": "markdown",
   "metadata": {},
   "source": [
    "## Model Evaluation"
   ]
  },
  {
   "cell_type": "code",
   "execution_count": 188,
   "metadata": {},
   "outputs": [],
   "source": [
    "# Define KFold cross-validation\n",
    "kfold = KFold(n_splits=5, shuffle=True, random_state=0)\n",
    "\n",
    "# Define the models to be used\n",
    "models = {\n",
    "    'KNN': KNeighborsClassifier(n_neighbors=1),\n",
    "    'Random Forest': RandomForestClassifier(),\n",
    "    'Decision Tree': DecisionTreeClassifier(),\n",
    "    'SVM': SVC(), \n",
    "    'Logistic regression' : LogisticRegression(max_iter=2500),\n",
    "    'Naive Bayes' : GaussianNB()\n",
    "}"
   ]
  },
  {
   "cell_type": "code",
   "execution_count": 189,
   "metadata": {},
   "outputs": [
    {
     "name": "stdout",
     "output_type": "stream",
     "text": [
      "Cross-validation results (mean accuracy):\n",
      "KNN: 0.8310\n",
      "Random Forest: 0.9470\n",
      "Decision Tree: 0.9342\n",
      "SVM: 0.8338\n",
      "Logistic regression: 0.8656\n",
      "Naive Bayes: 0.4908\n"
     ]
    }
   ],
   "source": [
    "# Evaluate each model with KFold cross-validation and collect the results\n",
    "model_results = {}\n",
    "for model_name, model in models.items():\n",
    "    # Use cross_val_score to evaluate the pipeline with KFold\n",
    "    scores = cross_val_score(model, X_train_scaled2, y_train, cv=kfold, scoring='accuracy')\n",
    "    model_results[model_name] = scores.mean()  # Store the mean accuracy of the model\n",
    "\n",
    "print(\"Cross-validation results (mean accuracy):\")\n",
    "for model_name, mean_score in model_results.items():\n",
    "    print(f\"{model_name}: {mean_score:.4f}\")"
   ]
  },
  {
   "cell_type": "markdown",
   "metadata": {},
   "source": [
    "### Build the Best Model"
   ]
  },
  {
   "cell_type": "code",
   "execution_count": 194,
   "metadata": {},
   "outputs": [
    {
     "name": "stdout",
     "output_type": "stream",
     "text": [
      "\n",
      "Test set accuracy: 0.9139\n",
      "Classification report:\n",
      "                     precision    recall  f1-score   support\n",
      "\n",
      "Insufficient_Weight       0.95      0.96      0.95        90\n",
      "      Normal_Weight       0.73      0.79      0.76        95\n",
      "     Obesity_Type_I       0.97      0.94      0.96       116\n",
      "    Obesity_Type_II       0.98      0.98      0.98        98\n",
      "   Obesity_Type_III       0.99      0.99      0.99       107\n",
      " Overweight_Level_I       0.85      0.85      0.85        96\n",
      "Overweight_Level_II       0.92      0.87      0.90        95\n",
      "\n",
      "           accuracy                           0.91       697\n",
      "          macro avg       0.91      0.91      0.91       697\n",
      "       weighted avg       0.92      0.91      0.91       697\n",
      "\n",
      "Confusion Matrix:\n",
      "[[ 86   4   0   0   0   0   0]\n",
      " [  5  75   0   0   0  13   2]\n",
      " [  0   3 109   0   0   1   3]\n",
      " [  0   0   1  96   1   0   0]\n",
      " [  0   1   0   0 106   0   0]\n",
      " [  0  11   1   0   0  82   2]\n",
      " [  0   9   1   2   0   0  83]]\n"
     ]
    },
    {
     "data": {
      "image/png": "[encoded data removed]",
      "text/plain": [
       "<Figure size 640x480 with 2 Axes>"
      ]
     },
     "metadata": {},
     "output_type": "display_data"
    }
   ],
   "source": [
    "# Train the Chosen final model\n",
    "rand_forest = RandomForestClassifier()\n",
    "rand_forest.fit(X_train_scaled2, y_train)\n",
    "\n",
    "# Test the model on the test set\n",
    "y_pred = rand_forest.predict(X_test_scaled2)\n",
    "test_accuracy = accuracy_score(y_test, y_pred)\n",
    "\n",
    "print(f\"\\nTest set accuracy: {test_accuracy:.4f}\")\n",
    "print(\"Classification report:\")\n",
    "print(classification_report(y_test, y_pred))\n",
    "\n",
    "# Create the confusion matrix\n",
    "conf_matrix = confusion_matrix(y_test, y_pred)\n",
    "\n",
    "# Display the confusion matrix\n",
    "print(\"Confusion Matrix:\")\n",
    "print(conf_matrix)\n",
    "\n",
    "# Visualize the confusion matrix\n",
    "sns.heatmap(conf_matrix, annot=True, fmt='d', cmap='Blues', \n",
    "            xticklabels=['Insufficient_Weight','Normal_Weight', 'Obesity_Type_I','Obesity_Type_II', \n",
    "            'Obesity_Type_III', 'Overweight_Level_I', 'Overweight_Level_II'],\n",
    "              yticklabels=['Insufficient_Weight', 'Normal_Weight', 'Obesity_Type_I','Obesity_Type_II', \n",
    "            'Obesity_Type_III', 'Overweight_Level_I', 'Overweight_Level_II'])\n",
    "plt.xlabel('Predicted')\n",
    "plt.ylabel('Actual')\n",
    "plt.title('Confusion Matrix')\n",
    "plt.show()"
   ]
  }
 ],
 "metadata": {
  "kernelspec": {
   "display_name": "Python 3",
   "language": "python",
   "name": "python3"
  },
  "language_info": {
   "codemirror_mode": {
    "name": "ipython",
    "version": 3
   },
   "file_extension": ".py",
   "mimetype": "text/x-python",
   "name": "python",
   "nbconvert_exporter": "python",
   "pygments_lexer": "ipython3",
   "version": "3.12.0"
  }
 },
 "nbformat": 4,
 "nbformat_minor": 2
}
